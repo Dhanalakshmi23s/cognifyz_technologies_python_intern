{
 "cells": [
  {
   "cell_type": "raw",
   "id": "d8e33b5d-d114-47a3-931c-f7b14296f4b3",
   "metadata": {},
   "source": [
    "Task 4 : Fibonacci Sequence"
   ]
  },
  {
   "cell_type": "code",
   "execution_count": 2,
   "id": "ff2ca943-9e85-4b5e-b001-481685415c42",
   "metadata": {},
   "outputs": [
    {
     "name": "stdin",
     "output_type": "stream",
     "text": [
      "Enter the number of terms for the Fibonacci sequence:  5\n"
     ]
    },
    {
     "name": "stdout",
     "output_type": "stream",
     "text": [
      "Fibonacci sequence up to  5  terms:  0 1 1 2 3\n"
     ]
    }
   ],
   "source": [
    "def generate_fibonacci_sequence(terms):\n",
    "    fibonacci_sequence = [0, 1]\n",
    "\n",
    "    while len(fibonacci_sequence) < terms:\n",
    "        next_term = fibonacci_sequence[-1] + fibonacci_sequence[-2]\n",
    "        fibonacci_sequence.append(next_term)\n",
    "\n",
    "    return fibonacci_sequence[:terms]\n",
    "\n",
    "# Get user input for the number of terms\n",
    "try:\n",
    "    num_terms = int(input(\"Enter the number of terms for the Fibonacci sequence: \"))\n",
    "    \n",
    "    if num_terms <= 0:\n",
    "        print(\"Please enter a positive integer.\")\n",
    "    else:\n",
    "        result = generate_fibonacci_sequence(num_terms)\n",
    "        print(\"Fibonacci sequence up to \",num_terms,\" terms: \",*result)\n",
    "\n",
    "except ValueError:\n",
    "    print(\"Please enter a valid integer.\")\n"
   ]
  },
  {
   "cell_type": "code",
   "execution_count": null,
   "id": "6088d3aa-626e-4b12-873f-c5c666a9ba8d",
   "metadata": {},
   "outputs": [],
   "source": []
  }
 ],
 "metadata": {
  "kernelspec": {
   "display_name": "Python 3 (ipykernel)",
   "language": "python",
   "name": "python3"
  },
  "language_info": {
   "codemirror_mode": {
    "name": "ipython",
    "version": 3
   },
   "file_extension": ".py",
   "mimetype": "text/x-python",
   "name": "python",
   "nbconvert_exporter": "python",
   "pygments_lexer": "ipython3",
   "version": "3.11.5"
  }
 },
 "nbformat": 4,
 "nbformat_minor": 5
}
