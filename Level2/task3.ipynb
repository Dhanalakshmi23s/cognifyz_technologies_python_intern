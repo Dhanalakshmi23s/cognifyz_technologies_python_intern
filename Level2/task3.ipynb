{
 "cells": [
  {
   "cell_type": "raw",
   "id": "d6101f79-b62f-41f6-8807-09156aeefa00",
   "metadata": {},
   "source": [
    "Task 3: : Password Strength Checker"
   ]
  },
  {
   "cell_type": "code",
   "execution_count": 2,
   "id": "734acc93-bc4f-4ffb-8274-bcc6f08177fa",
   "metadata": {},
   "outputs": [
    {
     "name": "stdin",
     "output_type": "stream",
     "text": [
      "Enter your password:  Dhanalakshmi@2003\n"
     ]
    },
    {
     "name": "stdout",
     "output_type": "stream",
     "text": [
      "Password strength:  Strong\n"
     ]
    }
   ],
   "source": [
    "import re\n",
    "\n",
    "def evaluate_password_strength(password):\n",
    "    # Minimum requirements\n",
    "    min_length = 8\n",
    "    has_uppercase = False\n",
    "    has_lowercase = False\n",
    "    has_digit = False\n",
    "    has_special_character = False\n",
    "    \n",
    "    # Check length\n",
    "    if len(password) >= min_length:\n",
    "        # Check for uppercase letters\n",
    "        has_uppercase = any(char.isupper() for char in password)\n",
    "        \n",
    "        # Check for lowercase letters\n",
    "        has_lowercase = any(char.islower() for char in password)\n",
    "        \n",
    "        # Check for digits\n",
    "        has_digit = any(char.isdigit() for char in password)\n",
    "        \n",
    "        # Check for special characters\n",
    "        has_special_character = bool(re.search(r'[!@#$%^&*(),.?\":{}|<>]', password))\n",
    "    \n",
    "    # Evaluate overall strength\n",
    "    if has_uppercase and has_lowercase and has_digit and has_special_character:\n",
    "        return \"Strong\"\n",
    "    elif has_uppercase and has_lowercase and has_digit:\n",
    "        return \"Moderate\"\n",
    "    else:\n",
    "        return \"Weak\"\n",
    "\n",
    "# Example of using the function\n",
    "user_password = input(\"Enter your password: \")\n",
    "strength = evaluate_password_strength(user_password)\n",
    "print(\"Password strength: \",strength)\n"
   ]
  },
  {
   "cell_type": "code",
   "execution_count": null,
   "id": "3bc08a56-0ee6-4d8f-bd06-e3b4a613ce22",
   "metadata": {},
   "outputs": [],
   "source": []
  }
 ],
 "metadata": {
  "kernelspec": {
   "display_name": "Python 3 (ipykernel)",
   "language": "python",
   "name": "python3"
  },
  "language_info": {
   "codemirror_mode": {
    "name": "ipython",
    "version": 3
   },
   "file_extension": ".py",
   "mimetype": "text/x-python",
   "name": "python",
   "nbconvert_exporter": "python",
   "pygments_lexer": "ipython3",
   "version": "3.11.5"
  }
 },
 "nbformat": 4,
 "nbformat_minor": 5
}
