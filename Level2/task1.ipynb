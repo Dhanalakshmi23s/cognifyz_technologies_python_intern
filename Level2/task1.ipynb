{
 "cells": [
  {
   "cell_type": "raw",
   "id": "91dde2b1-6a1b-463d-8e94-2b28b58005a7",
   "metadata": {},
   "source": [
    "Task 1: Guess The Number"
   ]
  },
  {
   "cell_type": "code",
   "execution_count": null,
   "id": "b492a217-52a1-428b-b725-b0bacf97cab9",
   "metadata": {},
   "outputs": [
    {
     "name": "stdin",
     "output_type": "stream",
     "text": [
      "Guess the number between 1 and 100:  55\n"
     ]
    },
    {
     "name": "stdout",
     "output_type": "stream",
     "text": [
      "Too low! Try again.\n"
     ]
    },
    {
     "name": "stdin",
     "output_type": "stream",
     "text": [
      "Guess the number between 1 and 100:  65\n"
     ]
    },
    {
     "name": "stdout",
     "output_type": "stream",
     "text": [
      "Too low! Try again.\n"
     ]
    },
    {
     "name": "stdin",
     "output_type": "stream",
     "text": [
      "Guess the number between 1 and 100:  75\n"
     ]
    },
    {
     "name": "stdout",
     "output_type": "stream",
     "text": [
      "Too high! Try again.\n"
     ]
    }
   ],
   "source": [
    "import random\n",
    "\n",
    "def guess_the_number():\n",
    "    secret_number=random.randint(1, 100)\n",
    "    user_guess=0\n",
    "    # Game loop\n",
    "    while user_guess != secret_number:\n",
    "        try:\n",
    "            # Get user's guess\n",
    "            user_guess = int(input(\"Guess the number between 1 and 100: \"))\n",
    "            \n",
    "            # Check if the guess is too high, too low, or correct\n",
    "            if user_guess > secret_number:\n",
    "                print(\"Too high! Try again.\")\n",
    "            elif user_guess < secret_number:\n",
    "                print(\"Too low! Try again.\")\n",
    "            else:\n",
    "                print(\"Congratulations! You guessed the correct number: \",secret_number)\n",
    "        except ValueError:\n",
    "            print(\"Invalid input. Please enter a valid number.\")\n",
    "\n",
    "guess_the_number()\n"
   ]
  },
  {
   "cell_type": "code",
   "execution_count": null,
   "id": "61434e0c-7fde-4a84-9c1f-9697ddb11a4d",
   "metadata": {},
   "outputs": [],
   "source": []
  }
 ],
 "metadata": {
  "kernelspec": {
   "display_name": "Python 3 (ipykernel)",
   "language": "python",
   "name": "python3"
  },
  "language_info": {
   "codemirror_mode": {
    "name": "ipython",
    "version": 3
   },
   "file_extension": ".py",
   "mimetype": "text/x-python",
   "name": "python",
   "nbconvert_exporter": "python",
   "pygments_lexer": "ipython3",
   "version": "3.11.5"
  }
 },
 "nbformat": 4,
 "nbformat_minor": 5
}
