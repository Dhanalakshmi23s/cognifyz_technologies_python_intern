{
 "cells": [
  {
   "cell_type": "raw",
   "id": "79acdd54-85b4-43a1-a11b-7bf7a48a59b8",
   "metadata": {},
   "source": [
    "Task 5 : Palindrome Checker"
   ]
  },
  {
   "cell_type": "code",
   "execution_count": 3,
   "id": "7c6e945d-1573-4c34-a4cb-6d01456461e8",
   "metadata": {},
   "outputs": [
    {
     "name": "stdin",
     "output_type": "stream",
     "text": [
      "Enter a string: dog\n"
     ]
    },
    {
     "name": "stdout",
     "output_type": "stream",
     "text": [
      "dog is not a palindrome\n"
     ]
    }
   ],
   "source": [
    "# palindrome checker\n",
    "def palindrome(input_str):\n",
    "    #reverse the string\n",
    "    rev_str=\"\"\n",
    "    for i in input_str:\n",
    "        rev_str=i+rev_str\n",
    "    if rev_str==input_str:\n",
    "        return True\n",
    "    else:\n",
    "        return False\n",
    "\n",
    "#get user input\n",
    "input_str=input(\"Enter a string:\")\n",
    "\n",
    "#check palindrome\n",
    "if palindrome(input_str):\n",
    "    print(input_str,\"is a palindrome\")\n",
    "else:\n",
    "    print(input_str,\"is not a palindrome\")\n"
   ]
  },
  {
   "cell_type": "code",
   "execution_count": null,
   "id": "d207324b-626c-4796-8ec7-b259bd05bb7c",
   "metadata": {},
   "outputs": [],
   "source": []
  }
 ],
 "metadata": {
  "kernelspec": {
   "display_name": "Python 3 (ipykernel)",
   "language": "python",
   "name": "python3"
  },
  "language_info": {
   "codemirror_mode": {
    "name": "ipython",
    "version": 3
   },
   "file_extension": ".py",
   "mimetype": "text/x-python",
   "name": "python",
   "nbconvert_exporter": "python",
   "pygments_lexer": "ipython3",
   "version": "3.11.5"
  }
 },
 "nbformat": 4,
 "nbformat_minor": 5
}
