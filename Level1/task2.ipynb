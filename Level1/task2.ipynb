{
 "cells": [
  {
   "cell_type": "raw",
   "id": "c3cc1792-592f-4564-88ec-b7133c2e1d02",
   "metadata": {},
   "source": [
    "Task 2"
   ]
  },
  {
   "cell_type": "code",
   "execution_count": 1,
   "id": "b1f1cf03-d057-48de-b567-880473d81349",
   "metadata": {},
   "outputs": [
    {
     "name": "stdin",
     "output_type": "stream",
     "text": [
      "Enter temparature value: 97.4\n",
      "Enter temparature unit (c/f): f\n"
     ]
    },
    {
     "name": "stdout",
     "output_type": "stream",
     "text": [
      "36.333333333333336\n"
     ]
    }
   ],
   "source": [
    "#function for celsius to fahrenheit\n",
    "def celsius_to_fahrenheit(celsius):\n",
    "    fahrenheit=(celsius * 9/5) + 32\n",
    "    return fahrenheit\n",
    "    \n",
    "#function for fahrenheit to celsius\n",
    "def fahrenheit_to_celsius(fahrenheit):\n",
    "    celsius=(fahrenheit - 32) * 5/9\n",
    "    return celsius\n",
    "\n",
    "#get value from user\n",
    "temp_value=eval(input(\"Enter temparature value:\"))\n",
    "temp_unit=input(\"Enter temparature unit (c/f):\")\n",
    "\n",
    "if temp_unit=='c':\n",
    "    print(celsius_to_fahrenheit(temp_value))\n",
    "if temp_unit=='f':\n",
    "    print(fahrenheit_to_celsius(temp_value))"
   ]
  },
  {
   "cell_type": "code",
   "execution_count": null,
   "id": "b1600fd6-6898-4a08-a3b6-3270cf808194",
   "metadata": {},
   "outputs": [],
   "source": []
  }
 ],
 "metadata": {
  "kernelspec": {
   "display_name": "Python 3 (ipykernel)",
   "language": "python",
   "name": "python3"
  },
  "language_info": {
   "codemirror_mode": {
    "name": "ipython",
    "version": 3
   },
   "file_extension": ".py",
   "mimetype": "text/x-python",
   "name": "python",
   "nbconvert_exporter": "python",
   "pygments_lexer": "ipython3",
   "version": "3.11.5"
  }
 },
 "nbformat": 4,
 "nbformat_minor": 5
}
