{
 "cells": [
  {
   "cell_type": "raw",
   "id": "9bdd5d2b-66b2-4e4b-8055-6a53bd78b33b",
   "metadata": {},
   "source": [
    "Task 4 :  Calculator Program"
   ]
  },
  {
   "cell_type": "code",
   "execution_count": 4,
   "id": "b6bd3add-e9c9-4eec-b08c-a303f7ae1747",
   "metadata": {},
   "outputs": [
    {
     "name": "stdin",
     "output_type": "stream",
     "text": [
      "Enter a number: 5\n",
      "Enter a number: 2\n",
      "Enter operator:(+,-,*,/,%) *\n"
     ]
    },
    {
     "name": "stdout",
     "output_type": "stream",
     "text": [
      "The result of  5 * 2 is 10\n"
     ]
    }
   ],
   "source": [
    "# calculator Program\n",
    "def calculator (a,b,operator):\n",
    "    if operator == \"+\":\n",
    "        ans=a+b\n",
    "    if operator == \"-\":\n",
    "        ans=a-b\n",
    "    if operator ==\"*\":\n",
    "        ans=a*b\n",
    "    if operator ==\"/\":\n",
    "        if b!=0:\n",
    "            ans=a/b\n",
    "        else:\n",
    "            return \"Error: Division by zero\"\n",
    "    if operator ==\"%\":\n",
    "        if b!=0:\n",
    "            ans=a%b\n",
    "        else:\n",
    "            return \"Error: Modulo by zero\"\n",
    "    return ans\n",
    "\n",
    "# get user input\n",
    "a=int(input(\"Enter a number:\"))\n",
    "b=int(input(\"Enter a number:\"))\n",
    "opt=input(\"Enter operator:(+,-,*,/,%)\")\n",
    "\n",
    "# call the function\n",
    "print(\"The result of \",a,opt,b,\"is\",calculator(a,b,opt))"
   ]
  },
  {
   "cell_type": "code",
   "execution_count": null,
   "id": "8400b9bb-8947-4858-a64c-8f8aab692b36",
   "metadata": {},
   "outputs": [],
   "source": []
  }
 ],
 "metadata": {
  "kernelspec": {
   "display_name": "Python 3 (ipykernel)",
   "language": "python",
   "name": "python3"
  },
  "language_info": {
   "codemirror_mode": {
    "name": "ipython",
    "version": 3
   },
   "file_extension": ".py",
   "mimetype": "text/x-python",
   "name": "python",
   "nbconvert_exporter": "python",
   "pygments_lexer": "ipython3",
   "version": "3.11.5"
  }
 },
 "nbformat": 4,
 "nbformat_minor": 5
}
