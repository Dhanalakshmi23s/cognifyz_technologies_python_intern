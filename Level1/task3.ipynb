{
 "cells": [
  {
   "cell_type": "raw",
   "id": "a1101c55-5d0a-4bce-a268-b9b66b768389",
   "metadata": {},
   "source": [
    "Task 3"
   ]
  },
  {
   "cell_type": "code",
   "execution_count": 2,
   "id": "387a0415-6354-4a82-8907-3f49ecbf323a",
   "metadata": {},
   "outputs": [
    {
     "name": "stdin",
     "output_type": "stream",
     "text": [
      "Enter an email address to validate:  dhanu2003gmail.com\n"
     ]
    },
    {
     "name": "stdout",
     "output_type": "stream",
     "text": [
      "dhanu2003gmail.com is not a valid email address.\n"
     ]
    }
   ],
   "source": [
    "def is_valid_email(email):\n",
    "    # Check for the presence of '@'\n",
    "    if '@' not in email:\n",
    "        return False\n",
    "    local_part, domain_part = email.split('@')\n",
    "\n",
    "    # Check for the presence of '.' in the email\n",
    "    if '.' not in domain_part:\n",
    "        return False\n",
    "\n",
    "    # Check if there is at least one character in the email\n",
    "    if not local_part:\n",
    "        return False\n",
    "\n",
    "    # Check if there is at least one character in the email\n",
    "    if not domain_part:\n",
    "        return False\n",
    "    return True\n",
    "\n",
    "email_to_check = input(\"Enter an email address to validate: \")\n",
    "\n",
    "if is_valid_email(email_to_check):\n",
    "    print(email_to_check ,\"is a valid email address.\")\n",
    "else:\n",
    "    print(email_to_check,\"is not a valid email address.\")\n"
   ]
  },
  {
   "cell_type": "code",
   "execution_count": null,
   "id": "95877fac-16bf-40b1-a92e-174afe8e7103",
   "metadata": {},
   "outputs": [],
   "source": []
  }
 ],
 "metadata": {
  "kernelspec": {
   "display_name": "Python 3 (ipykernel)",
   "language": "python",
   "name": "python3"
  },
  "language_info": {
   "codemirror_mode": {
    "name": "ipython",
    "version": 3
   },
   "file_extension": ".py",
   "mimetype": "text/x-python",
   "name": "python",
   "nbconvert_exporter": "python",
   "pygments_lexer": "ipython3",
   "version": "3.11.5"
  }
 },
 "nbformat": 4,
 "nbformat_minor": 5
}
