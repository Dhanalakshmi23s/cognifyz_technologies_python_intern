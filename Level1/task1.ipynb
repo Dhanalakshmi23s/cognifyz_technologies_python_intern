{
 "cells": [
  {
   "cell_type": "raw",
   "id": "64580665-23b4-4786-8638-1f68cef5c3cc",
   "metadata": {},
   "source": [
    "Task 1"
   ]
  },
  {
   "cell_type": "code",
   "execution_count": 1,
   "id": "dabc26f6-490a-4e19-994b-762207465aac",
   "metadata": {},
   "outputs": [
    {
     "name": "stdin",
     "output_type": "stream",
     "text": [
      "Enter a string: hello!\n"
     ]
    },
    {
     "name": "stdout",
     "output_type": "stream",
     "text": [
      "!olleh\n"
     ]
    }
   ],
   "source": [
    "#function for reverse string\n",
    "def string_reverse(str1):\n",
    "    rev_str=\"\"\n",
    "    for i in str1:\n",
    "        rev_str=i+rev_str\n",
    "    return rev_str\n",
    "\n",
    "#get string from user \n",
    "str1=input(\"Enter a string:\")\n",
    "#call the function\n",
    "reverse_string=string_reverse(str1)\n",
    "print(reverse_string)"
   ]
  },
  {
   "cell_type": "code",
   "execution_count": null,
   "id": "5b928776-9461-45c1-bf65-20a3f82aeec1",
   "metadata": {},
   "outputs": [],
   "source": []
  }
 ],
 "metadata": {
  "kernelspec": {
   "display_name": "Python 3 (ipykernel)",
   "language": "python",
   "name": "python3"
  },
  "language_info": {
   "codemirror_mode": {
    "name": "ipython",
    "version": 3
   },
   "file_extension": ".py",
   "mimetype": "text/x-python",
   "name": "python",
   "nbconvert_exporter": "python",
   "pygments_lexer": "ipython3",
   "version": "3.11.5"
  }
 },
 "nbformat": 4,
 "nbformat_minor": 5
}
